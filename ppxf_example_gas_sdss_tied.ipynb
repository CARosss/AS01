{
 "cells": [
  {
   "cell_type": "markdown",
   "id": "2fc55e41",
   "metadata": {},
   "source": [
    "# pPXF: Tied gas emission lines and stellar population\n",
    "\n",
    "![pPXF](https://www-astro.physics.ox.ac.uk/~cappellari/software/ppxf_logo.svg)\n",
    "\n",
    "## Description\n",
    "\n",
    "Usage example for the procedure pPXF originally described in \n",
    "[Cappellari & Emsellem (2004)](http://adsabs.harvard.edu/abs/2004PASP..116..138C),\n",
    "substantially upgraded in \n",
    "[Cappellari (2017)](http://adsabs.harvard.edu/abs/2017MNRAS.466..798C) \n",
    "and with the inclusion of photometry and linear constraints in \n",
    "[Cappellari (2023)](https://ui.adsabs.harvard.edu/abs/2023MNRAS.526.3273C).\n",
    "\n",
    "This example shows how to tie the kinematics of gas emission lines to study\n",
    "stellar population and gas emission lines.\n",
    "\n",
    "### MODIFICATION HISTORY\n",
    "\n",
    " - V1.0.0: Adapted from `ppxf_kinematic_example`.\n",
    "      Michele Cappellari, Oxford, 12 October 2011\n",
    " - V1.1.0: Made a separate routine for the construction of the templates\n",
    "      spectral library. MC, Vicenza, 11 October 2012\n",
    " - V1.1.1: Includes `regul_error` definition. MC, Oxford, 15 November 2012\n",
    " - V2.0.0: Translated from IDL into Python. MC, Oxford, 6 December 2013\n",
    " - V2.0.1: Fit SDSS rather than SAURON spectrum. MC, Oxford, 11 December 2013\n",
    " - V2.1.0: Includes gas emission as templates instead of masking the spectrum.\n",
    "      MC, Oxford, 7 January 2014\n",
    " - V2.1.1: Support both Python 2.6/2.7 and Python 3.x. MC, Oxford, 25 May 2014\n",
    " - V2.1.2: Illustrates how to print and plot emission lines.\n",
    "      MC, Oxford, 5 August 2014\n",
    " - V2.1.3: Only includes emission lines falling within the fitted wavelength\n",
    "      range. MC, Oxford, 3 September 2014\n",
    " - V2.1.4: Explicitly sort template files as `glob()` output may not be sorted.\n",
    "      Thanks to Marina Trevisan for reporting problems under Linux.\n",
    "      MC, Sydney, 4 February 2015\n",
    " - V2.1.5: Included `origin='upper'` in `imshow()`. Thanks to Richard McDermid\n",
    "      for reporting a different default value with older Matplotlib versions.\n",
    "      MC, Oxford, 17 February 2015\n",
    " - V2.1.6: Use `color=` instead of `c=` to avoid new Matplotlib bug.\n",
    "      MC, Oxford, 25 February 2015\n",
    " - V2.1.7: Uses Pyfits from Astropy to read FITS files.\n",
    "      MC, Oxford, 22 October 2015\n",
    " - V2.1.8: Included treatment of the SDSS/MILES vacuum/air wavelength difference.\n",
    "      MC, Oxford, 12 August 2016\n",
    " - V2.1.9: Automate and test computation of nAge and nMetals.\n",
    "      MC, Oxford 1 November 2016\n",
    " - V3.0.0: Major upgrade. Compute mass-weighted population parameters and M/L\n",
    "      using the new `miles` class which leaves no room for user mistakes.\n",
    "      MC, Oxford, 2 December 2016\n",
    " - V3.0.1: Make files paths relative to this file, to run the example from\n",
    "      any directory. MC, Oxford, 18 January 2017\n",
    " - V3.1.1: Use `ppxf` method `pp.plot(gas_component=...)` to produce gas\n",
    "      emission lines plot. MC, Oxford, 13 March 2017\n",
    " - V3.2.0: Illustrates how to tie gas emission lines for MaNGA DAP MPL-6.\n",
    "      MC, Oxford, 2 June 2017\n",
    " - V3.3.0: Adapted to work with ppxf package v8.2.\n",
    "      Included both `tied` and `constr_kinem`.\n",
    "      MC, Oxford, 10 October 2022\n",
    " - V3.4.0: Use the new `sps_util` instead of `miles_util`. \n",
    "      MC, Oxford, 12 November 2023\n",
    " - V3.5.0: Included XSL SPS models. MC, Oxford. 29 may 2024\n",
    "\n",
    "___"
   ]
  },
  {
   "cell_type": "code",
   "id": "ed94b48b",
   "metadata": {
    "ExecuteTime": {
     "end_time": "2024-10-18T12:48:23.007413Z",
     "start_time": "2024-10-18T12:48:21.302147Z"
    }
   },
   "source": [
    "from time import perf_counter as clock\n",
    "from pathlib import Path\n",
    "from urllib import request\n",
    "\n",
    "import numpy as np\n",
    "import matplotlib.pyplot as plt\n",
    "from astropy.io import fits\n",
    "\n",
    "from ppxf.ppxf import ppxf\n",
    "import ppxf.ppxf_util as util\n",
    "import ppxf.sps_util as lib"
   ],
   "outputs": [],
   "execution_count": 1
  },
  {
   "cell_type": "markdown",
   "id": "1126394a",
   "metadata": {},
   "source": [
    "Read SDSS galaxy spectrum taken from here https://www.sdss4.org/.\n",
    "The spectrum is *already* log rebinned by the SDSS\n",
    "pipeline and `log_rebin` should not be used in this case."
   ]
  },
  {
   "cell_type": "code",
   "id": "26b508ba",
   "metadata": {
    "ExecuteTime": {
     "end_time": "2024-10-18T12:48:23.038166Z",
     "start_time": "2024-10-18T12:48:23.011027Z"
    }
   },
   "source": [
    "ppxf_dir = Path(lib.__file__).parent\n",
    "file = ppxf_dir / 'spectra' / 'NGC3073_SDSS_DR18.fits'\n",
    "hdu = fits.open(file)\n",
    "t = hdu['COADD'].data\n",
    "redshift = hdu['SPECOBJ'].data['z'].item()       # SDSS redshift estimate\n",
    "\n",
    "galaxy = t['flux']/np.median(t['flux'])   # Normalize spectrum to avoid numerical issues\n",
    "ln_lam_gal = t['loglam']*np.log(10)       # Convert lg --> ln\n",
    "lam_gal = np.exp(ln_lam_gal)              # Wavelength in Angstroms (log sampled)"
   ],
   "outputs": [],
   "execution_count": 2
  },
  {
   "cell_type": "markdown",
   "id": "99581f46",
   "metadata": {},
   "source": [
    "The SDSS wavelengths are in vacuum, while the MILES ones are in air.\n",
    "For a rigorous treatment, the SDSS vacuum wavelengths should be\n",
    "converted into air wavelengths and the spectra should be resampled.\n",
    "To avoid resampling, given that the wavelength dependence of the\n",
    "correction is very weak, I approximate it with a constant factor."
   ]
  },
  {
   "cell_type": "code",
   "id": "eea8fd41",
   "metadata": {
    "ExecuteTime": {
     "end_time": "2024-10-18T12:48:23.139424Z",
     "start_time": "2024-10-18T12:48:23.137379Z"
    }
   },
   "source": [
    "lam_gal *= np.median(util.vac_to_air(lam_gal)/lam_gal)"
   ],
   "outputs": [],
   "execution_count": 3
  },
  {
   "cell_type": "markdown",
   "id": "5ef9068e",
   "metadata": {},
   "source": [
    "The noise level is chosen to give `Chi^2/DOF=1` without regularization (`regul=0`).\n",
    "A constant noise is not a bad approximation in the fitted wavelength\n",
    "range and reduces the noise in the fit."
   ]
  },
  {
   "cell_type": "code",
   "id": "09615a88",
   "metadata": {
    "ExecuteTime": {
     "end_time": "2024-10-18T12:48:23.148125Z",
     "start_time": "2024-10-18T12:48:23.146360Z"
    }
   },
   "source": [
    "noise = np.full_like(galaxy, 0.01635)           # Assume constant noise per pixel here"
   ],
   "outputs": [],
   "execution_count": 4
  },
  {
   "cell_type": "markdown",
   "id": "236af592",
   "metadata": {},
   "source": [
    "The velocity step was already chosen by the SDSS pipeline,\n",
    "and we convert it below to km/s"
   ]
  },
  {
   "cell_type": "code",
   "id": "9cbbcd13",
   "metadata": {
    "ExecuteTime": {
     "end_time": "2024-10-18T12:48:23.158143Z",
     "start_time": "2024-10-18T12:48:23.156215Z"
    }
   },
   "source": [
    "c = 299792.458 # speed of light in km/s\n",
    "d_ln_lam_gal = (ln_lam_gal[-1] - ln_lam_gal[0])/(ln_lam_gal.size - 1)  # Use full lam range for accuracy\n",
    "velscale = c*d_ln_lam_gal                   # Velocity scale in km/s per pixel (eq.8 of Cappellari 2017)"
   ],
   "outputs": [],
   "execution_count": 5
  },
  {
   "cell_type": "markdown",
   "id": "a9166e31",
   "metadata": {},
   "source": [
    "I convert the instrumental dispersion to Angstroms"
   ]
  },
  {
   "cell_type": "code",
   "id": "80f3b271",
   "metadata": {
    "ExecuteTime": {
     "end_time": "2024-10-18T12:48:23.167766Z",
     "start_time": "2024-10-18T12:48:23.165768Z"
    }
   },
   "source": [
    "dlam_gal = np.gradient(lam_gal)             # Size of every pixel in Angstroms\n",
    "wdisp = t['wdisp']                          # Instrumental dispersion of every pixel, in pixels units\n",
    "fwhm_gal = 2.355*wdisp*dlam_gal             # Resolution FWHM of every pixel, in Angstroms"
   ],
   "outputs": [],
   "execution_count": 6
  },
  {
   "cell_type": "markdown",
   "id": "46b7bab1",
   "metadata": {},
   "source": [
    "## Setup stellar templates \n",
    "\n",
    "pPXF can be used with any set of SPS population templates. However, I am\n",
    "currently providing (with permission) ready-to-use template files for four\n",
    "SPS. One can just uncomment one of the four models below. The included files\n",
    "are only a subset of the SPS that can be produced with the models, and one\n",
    "should use the relevant software/website to produce different sets of SPS\n",
    "templates if needed.\n",
    "\n",
    "1. If you use the [fsps v3.2](https://github.com/cconroy20/fsps) SPS model\n",
    "   templates, please also cite in your paper \n",
    "   [Conroy et al. (2009)](https://ui.adsabs.harvard.edu/abs/2009ApJ...699..486C) and\n",
    "   [Conroy et al. (2010)](https://ui.adsabs.harvard.edu/abs/2010ApJ...712..833C).\n",
    "\n",
    "2. If you use the [GALAXEV v2020](http://www.bruzual.org/bc03/) SPS model \n",
    "   templates, please also cite in your paper \n",
    "   [Bruzual & Charlot (2003)](https://ui.adsabs.harvard.edu/abs/2003MNRAS.344.1000B).\n",
    "\n",
    "3. If you use the [E-MILES](http://miles.iac.es/) SPS model templates,\n",
    "   please also cite  in your paper \n",
    "   [Vazdekis et al. (2016)](https://ui.adsabs.harvard.edu/abs/2016MNRAS.463.3409V).\n",
    "   <font color=\"red\">WARNING: The E-MILES models only include SPS with age > 63 Myr and\n",
    "   are not recommended for highly star forming galaxies.</font>\n",
    "\n",
    "4. If you use the [X-Shooter Spectral Library (XSL)](http://xsl.u-strasbg.fr/) \n",
    "   SPS model templates, please also cite in your paper \n",
    "   [Verro et al. (2022)](https://ui.adsabs.harvard.edu/abs/2022A%26A...661A..50V). \n",
    "   <font color=\"red\">WARNING: The XSL models only include SPS with age > 50 Myr and\n",
    "   are not recommended for highly star forming galaxies.</font>"
   ]
  },
  {
   "cell_type": "code",
   "id": "c09202a8",
   "metadata": {
    "ExecuteTime": {
     "end_time": "2024-10-18T12:48:23.177992Z",
     "start_time": "2024-10-18T12:48:23.176653Z"
    }
   },
   "source": [
    "# sps_name = 'fsps'\n",
    "# sps_name = 'galaxev'\n",
    "sps_name = 'emiles'\n",
    "# sps_name = 'xsl'"
   ],
   "outputs": [],
   "execution_count": 7
  },
  {
   "cell_type": "markdown",
   "id": "d7a3fa84",
   "metadata": {},
   "source": [
    "Read SPS models file from my GitHub if not already in the ppxf package dir.\n",
    "The SPS model files are also available on my [GitHub Page](https://github.com/micappe/ppxf_data)."
   ]
  },
  {
   "cell_type": "code",
   "id": "628e6f10",
   "metadata": {
    "ExecuteTime": {
     "end_time": "2024-10-18T12:48:25.257787Z",
     "start_time": "2024-10-18T12:48:23.187552Z"
    }
   },
   "source": [
    "basename = f\"spectra_{sps_name}_9.0.npz\"\n",
    "filename = ppxf_dir / 'sps_models' / basename\n",
    "if not filename.is_file():\n",
    "    url = \"https://raw.githubusercontent.com/micappe/ppxf_data/main/\" + basename\n",
    "    request.urlretrieve(url, filename)\n",
    "\n",
    "fwhm_gal_dic = {\"lam\": lam_gal, \"fwhm\": fwhm_gal}\n",
    "sps = lib.sps_lib(filename, velscale, fwhm_gal_dic)\n",
    "\n",
    "stars_templates = sps.templates.reshape(sps.templates.shape[0], -1)"
   ],
   "outputs": [],
   "execution_count": 8
  },
  {
   "cell_type": "markdown",
   "id": "30656c01",
   "metadata": {},
   "source": [
    "Construct a set of Gaussian emission line templates.\n",
    "Estimate the wavelength fitted range in the rest frame."
   ]
  },
  {
   "cell_type": "code",
   "id": "30c08dca",
   "metadata": {
    "ExecuteTime": {
     "end_time": "2024-10-18T12:48:25.282658Z",
     "start_time": "2024-10-18T12:48:25.268864Z"
    }
   },
   "source": [
    "lam_range_gal = np.array([np.min(lam_gal), np.max(lam_gal)])/(1 + redshift)\n",
    "gas_templates, gas_names, gas_wave = \\\n",
    "    util.emission_lines(sps.ln_lam_temp, lam_range_gal, fwhm_gal_dic)"
   ],
   "outputs": [
    {
     "name": "stdout",
     "output_type": "stream",
     "text": [
      "Emission lines included in gas templates:\n",
      "['H10' 'H9' 'H8' 'Heps' 'Hdelta' 'Hgamma' 'Hbeta' 'Halpha' '[SII]6716'\n",
      " '[SII]6731' '[NeIII]3968' '[NeIII]3869' 'HeII4687' 'HeI5876'\n",
      " '[OIII]5007_d' '[OI]6300_d' '[NII]6583_d']\n"
     ]
    }
   ],
   "execution_count": 9
  },
  {
   "cell_type": "markdown",
   "id": "1ed42cdf",
   "metadata": {},
   "source": [
    "Combines the stellar and gaseous templates into a single array\n",
    "during the PPXF fit, they will be assigned a different kinematic\n",
    "`component` value"
   ]
  },
  {
   "cell_type": "code",
   "id": "66c5783b",
   "metadata": {
    "ExecuteTime": {
     "end_time": "2024-10-18T12:48:25.304017Z",
     "start_time": "2024-10-18T12:48:25.299564Z"
    }
   },
   "source": [
    "templates = np.column_stack([stars_templates, gas_templates])\n",
    "\n",
    "n_temps = stars_templates.shape[1]"
   ],
   "outputs": [],
   "execution_count": 10
  },
  {
   "cell_type": "markdown",
   "id": "8ccbc9ad",
   "metadata": {},
   "source": [
    "## pPXF fit \n",
    "\n",
    "The important formula below **defines** the relation between velocity,\n",
    "wavelength and redshift in ``pPXF`` (eq. 8 of \n",
    "[Cappellari 2017](https://ui.adsabs.harvard.edu/abs/2017MNRAS.466..798C))\n",
    "I use it below to get an estimate of the stellar kinematics [V, sigma] starting\n",
    "from an approximate galaxy redshift.\n",
    "\n",
    "$$V\\equiv c\\Delta\\ln\\lambda = c\\ln(1+z)$$"
   ]
  },
  {
   "cell_type": "code",
   "id": "3bb97eb5",
   "metadata": {
    "ExecuteTime": {
     "end_time": "2024-10-18T12:48:25.317003Z",
     "start_time": "2024-10-18T12:48:25.315184Z"
    }
   },
   "source": [
    "vel0 = c*np.log(1 + redshift)\n",
    "sol = [vel0, 200]"
   ],
   "outputs": [],
   "execution_count": 11
  },
  {
   "cell_type": "markdown",
   "id": "131d622d",
   "metadata": {},
   "source": [
    "- All stellar templates are in the same `component=0`. \n",
    "- The Balmer lines share the same LOSVD and are assigned the same kinematic `component=1`. \n",
    "- The other lines are assigned to their own `component=2--8`. \n",
    "- Both lines of doublets with fixed 1/3 ratio are in the same kinematic `component=6--8`.\n",
    "\n",
    "This is the full list of components: \n",
    "\n",
    "0. component: Stellar kinematics\n",
    "1. component: 'H10' 'H9' 'H8' 'Heps' 'Hdelta' 'Hgamma' 'Hbeta' 'Halpha'\n",
    "2. component: '[SII]6716' '[SII]6731'\n",
    "3. component: '[NeIII]3968' '[NeIII]3869'\n",
    "4. component: 'HeII4687'\n",
    "5. component: 'HeI5876'\n",
    "6. component: '[OIII]5007_d'\n",
    "7. component: '[OI]6300_d'\n",
    "8. component: '[NII]6583_d'\n"
   ]
  },
  {
   "cell_type": "code",
   "id": "d4cfb091",
   "metadata": {
    "ExecuteTime": {
     "end_time": "2024-10-18T12:48:25.329185Z",
     "start_time": "2024-10-18T12:48:25.327299Z"
    }
   },
   "source": [
    "component = [0]*n_temps  # Single stellar kinematic component=0 for all templates\n",
    "component += [1]*8\n",
    "component += [2, 2, 3, 3, 4, 5, 6, 7, 8]\n",
    "component = np.array(component)"
   ],
   "outputs": [],
   "execution_count": 12
  },
  {
   "cell_type": "markdown",
   "id": "462f55d6",
   "metadata": {},
   "source": [
    "Fit two `moments=2` (V, sigma) for all 9 kinematic components."
   ]
  },
  {
   "cell_type": "code",
   "id": "7b97dd3d",
   "metadata": {
    "ExecuteTime": {
     "end_time": "2024-10-18T12:48:25.341246Z",
     "start_time": "2024-10-18T12:48:25.339517Z"
    }
   },
   "source": [
    "moments = [2]*9"
   ],
   "outputs": [],
   "execution_count": 13
  },
  {
   "cell_type": "markdown",
   "id": "77e1c26c",
   "metadata": {},
   "source": [
    "The next command produces a list of `start` starting guesses, one for each component:\n",
    "\n",
    "0. [V0, sig0] stellar kinematics\n",
    "1. [V1, sig1] Balmer lines kinematics\n",
    "2. [V2, sig2] '[SII]6716' '[SII]6731'\n",
    "3. [V3, sig3] '[NeIII]3968' '[NeIII]3869'\n",
    "4. [V4, sig4] 'HeII4687'\n",
    "5. [V5, sig5] 'HeI5876'\n",
    "6. [V6, sig6] '[OIII]5007_d'\n",
    "7. [V7, sig7] '[OI]6300_d'\n",
    "8. [V8, sig8] '[NII]6583_d'"
   ]
  },
  {
   "cell_type": "code",
   "id": "da21a5b5",
   "metadata": {
    "ExecuteTime": {
     "end_time": "2024-10-18T12:48:25.353077Z",
     "start_time": "2024-10-18T12:48:25.351342Z"
    }
   },
   "source": [
    "start = [sol for j in range(len(moments))]  # adopt the same starting value for both gas and stars"
   ],
   "outputs": [],
   "execution_count": 14
  },
  {
   "cell_type": "markdown",
   "id": "d97b534e",
   "metadata": {},
   "source": [
    "Set the *equality* constraint that V of all `components 3--8` is equal to V2,\n",
    "which is parameter no.4 (`p[0]=V0, p[1]=sig0, p[2]=V1, p[3]=sig1, p[4]=V2`).\n",
    "This implies that the final pPXF solution will be a list:\n",
    "\n",
    "0. [V0, sig0]  stellar kinematics\n",
    "1. [V1, sig1]  Balmer lines kinematics\n",
    "2. [V2, sig2]  '[SII]6716' '[SII]6731'\n",
    "3. [V2, sig3]  '[NeIII]3968' '[NeIII]3869'\n",
    "4. [V2, sig4]  'HeII4687'\n",
    "5. [V2, sig5]  'HeI5876'\n",
    "6. [V2, sig6]  '[OIII]5007_d'\n",
    "7. [V2, sig7]  '[OI]6300_d'\n",
    "8. [V2, sig8]  '[NII]6583_d'"
   ]
  },
  {
   "cell_type": "code",
   "id": "9ff0e5c4",
   "metadata": {
    "ExecuteTime": {
     "end_time": "2024-10-18T12:48:25.364964Z",
     "start_time": "2024-10-18T12:48:25.363153Z"
    }
   },
   "source": [
    "tied = [['', ''] for j in range(len(moments))]\n",
    "for j in range(3, len(moments)):\n",
    "    tied[j][0] = 'p[4]'"
   ],
   "outputs": [],
   "execution_count": 15
  },
  {
   "cell_type": "markdown",
   "id": "c949547f",
   "metadata": {},
   "source": [
    "In addition, I set the *inequality* constrain that the sigma of the gas lines\n",
    "must be smaller than 2x the stellar sigma. This is to prevent nearly-undetected\n",
    "gas lines, which are unconstrained by the data, to become unrealistically broad\n",
    "and mimic the effect of a smooth stellar continuum. For this, I set the\n",
    "constraint that the velocity dispersion of the gas `component=1--8` must be\n",
    "less than twice the sigma of the stars `component=0`. In formulas, I want to\n",
    "have:\n",
    "\n",
    "$$\n",
    "\\begin{cases}\n",
    "  \\sigma_1 < 2\\sigma_0\\\\\n",
    "  \\sigma_2 < 2\\sigma_0\\\\\n",
    "  \\vdots\\\\\n",
    "  \\sigma_8 < 2\\sigma_0\n",
    "\\end{cases}\n",
    "$$\n",
    "\n",
    "Following standard practice in numerical optimization (e.g.\n",
    "[HERE](https://uk.mathworks.com/help/optim/ug/linear-constraints.html)), I\n",
    "express these two inequalities as linear constraints in matrix form as this\n",
    "leads to an efficient optimization algorithm, with guaranteed local\n",
    "convergence:\n",
    "\n",
    "$$\\mathbf{A}_{\\rm ineq}\\cdot \\mathbf{p} < \\mathbf{b}_{\\rm ineq}.$$\n",
    "\n",
    "In this example, the vector of nonlinear kinematic parameters is\n",
    "$\\mathbf{p}=[V_0, \\sigma_0, V_1, \\sigma_1, \\ldots V_8, \\sigma_8]$\n",
    "(following the same order of the `start` parameter of `pPXF`) and I can write\n",
    "the above matrix equation explicitly as\n",
    "\n",
    "$$\n",
    "\\begin{bmatrix}\n",
    "  0 & -2 & 0 & 1 & 0 & 0 & 0 & 0 & \\ldots & 0\\\\\n",
    "  0 & -2 & 0 & 0 & 0 & 1 & 0 & 0 &  & 0\\\\\n",
    "  0 & -2 & 0 & 0 & 0 & 0 & 0 & 1 &  & 0\\\\\n",
    "  \\vdots &  &  &  &  &  &  &  &  \\ddots & \\vdots \\\\\n",
    "  0 & -2 & 0 & 0 & 0 & 0 & 0 & 0 & \\ldots & 1\\\\\n",
    "\\end{bmatrix}\n",
    "\\cdot\n",
    "\\begin{bmatrix}\n",
    "  V_0 \\\\\n",
    "  \\sigma_0 \\\\\n",
    "  V_1 \\\\\n",
    "  \\sigma_1\\\\\n",
    "  \\vdots \\\\\n",
    "  V_8 \\\\\n",
    "  \\sigma_8\n",
    "\\end{bmatrix}\n",
    "<\n",
    "\\begin{bmatrix}\n",
    "  0 \\\\\n",
    "  0 \\\\\n",
    "  \\vdots\\\\\n",
    "  0 \\\\\n",
    "\\end{bmatrix}.\n",
    "$$\n",
    "\n",
    "This translates into the following Python code"
   ]
  },
  {
   "cell_type": "code",
   "id": "2ac10b93",
   "metadata": {
    "lines_to_next_cell": 2,
    "ExecuteTime": {
     "end_time": "2024-10-18T12:48:25.378534Z",
     "start_time": "2024-10-18T12:48:25.375477Z"
    }
   },
   "source": [
    "#          V0 s0 V1 s1 V2 s2 V3 s3 V4 s4 V5 s5 V6 s6 V7 s7 V8 s8\n",
    "A_ineq = [[0, -2, 0, 1, 0, 0, 0, 0, 0, 0, 0, 0, 0, 0, 0, 0, 0, 0],  # -2*s0 + s1 < 0 => s1 < 2*s0\n",
    "          [0, -2, 0, 0, 0, 1, 0, 0, 0, 0, 0, 0, 0, 0, 0, 0, 0, 0],  # s2 < 2*s0\n",
    "          [0, -2, 0, 0, 0, 0, 0, 1, 0, 0, 0, 0, 0, 0, 0, 0, 0, 0],  # s3 < 2*s0\n",
    "          [0, -2, 0, 0, 0, 0, 0, 0, 0, 1, 0, 0, 0, 0, 0, 0, 0, 0],  # s4 < 2*s0\n",
    "          [0, -2, 0, 0, 0, 0, 0, 0, 0, 0, 0, 1, 0, 0, 0, 0, 0, 0],  # s5 < 2*s0\n",
    "          [0, -2, 0, 0, 0, 0, 0, 0, 0, 0, 0, 0, 0, 1, 0, 0, 0, 0],  # s6 < 2*s0\n",
    "          [0, -2, 0, 0, 0, 0, 0, 0, 0, 0, 0, 0, 0, 0, 0, 1, 0, 0],  # s7 < 2*s0\n",
    "          [0, -2, 0, 0, 0, 0, 0, 0, 0, 0, 0, 0, 0, 0, 0, 0, 0, 1]]  # s8 < 2*s0\n",
    "b_ineq = [0, 0, 0, 0, 0, 0, 0, 0]\n",
    "constr_kinem = {\"A_ineq\": A_ineq, \"b_ineq\": b_ineq}"
   ],
   "outputs": [],
   "execution_count": 16
  },
  {
   "cell_type": "code",
   "id": "42e49d10",
   "metadata": {
    "ExecuteTime": {
     "end_time": "2024-10-18T12:48:27.777593Z",
     "start_time": "2024-10-18T12:48:25.389777Z"
    }
   },
   "source": [
    "degree= -1\n",
    "mdegree = 10\n",
    "t = clock()\n",
    "pp = ppxf(templates, galaxy, noise, velscale, start, plot=False,\n",
    "            moments=moments, degree=degree, mdegree=mdegree, \n",
    "            lam=lam_gal, component=component, tied=tied, \n",
    "            gas_component=component > 0, gas_names=gas_names,\n",
    "            constr_kinem=constr_kinem, lam_temp=sps.lam_temp)\n",
    "print(f\"Elapsed time in pPXF: {(clock() - t):.2f}\")"
   ],
   "outputs": [
    {
     "name": "stdout",
     "output_type": "stream",
     "text": [
      " Best Fit:       Vel     sigma\n",
      " comp.  0:      1149        35\n",
      " comp.  1:      1151        45\n",
      " comp.  2:      1155        45\n",
      " comp.  3:      1155        23\n",
      " comp.  4:      1155        70\n",
      " comp.  5:      1155        70\n",
      " comp.  6:      1155        27\n",
      " comp.  7:      1155         1\n",
      " comp.  8:      1155        46\n",
      "chi2/DOF: 0.9830; DOF: 3826; degree = -1; mdegree = 10\n",
      "method = capfit; Jac calls: 6; Func calls: 140; Status: 2\n",
      "linear_method = lsq_box; Nonzero Templates (>0.1%): 19/167\n",
      "Tied parameters:\n",
      " p[6] = p[4]\n",
      " p[8] = p[4]\n",
      " p[10] = p[4]\n",
      " p[12] = p[4]\n",
      " p[14] = p[4]\n",
      " p[16] = p[4]\n",
      "+++++++++++++++++++++++++++++++++++++++++++++++++++++++++++++++++\n",
      "gas_component           name        flux       err      V     sig\n",
      "+++++++++++++++++++++++++++++++++++++++++++++++++++++++++++++++++\n",
      "Comp:  1                   H10     0.1774     0.034    1151    45\n",
      "Comp:  1                    H9     0.1918     0.034    1151    45\n",
      "Comp:  1                    H8     0.3606     0.034    1151    45\n",
      "Comp:  1                  Heps     0.2339     0.035    1151    45\n",
      "Comp:  1                Hdelta     0.4386     0.034    1151    45\n",
      "Comp:  1                Hgamma     0.7005     0.033    1151    45\n",
      "Comp:  1                 Hbeta      1.276     0.033    1151    45\n",
      "Comp:  1                Halpha      3.992     0.033    1151    45\n",
      "Comp:  2             [SII]6716     0.9065     0.033    1155    45\n",
      "Comp:  2             [SII]6731     0.6489     0.033    1155    45\n",
      "Comp:  3           [NeIII]3968      0.000     0.033    1155    23\n",
      "Comp:  3           [NeIII]3869      0.000     0.032    1155    23\n",
      "Comp:  4              HeII4687    0.06468     0.036    1155    70\n",
      "Comp:  5               HeI5876     0.1229     0.036    1155    70\n",
      "Comp:  6          [OIII]5007_d      1.239     0.038    1155    27\n",
      "Comp:  7            [OI]6300_d    0.06592     0.038    1155     1\n",
      "Comp:  8           [NII]6583_d      1.588     0.042    1155    46\n",
      "-----------------------------------------------------------------\n",
      "Elapsed time in pPXF: 2.39\n"
     ]
    }
   ],
   "execution_count": 17
  },
  {
   "cell_type": "markdown",
   "id": "8255b2e5",
   "metadata": {},
   "source": [
    "Plot fit results for stars and gas."
   ]
  },
  {
   "cell_type": "code",
   "id": "43bb7546",
   "metadata": {
    "ExecuteTime": {
     "end_time": "2024-10-18T12:48:34.405255Z",
     "start_time": "2024-10-18T12:48:27.789504Z"
    }
   },
   "source": [
    "pp.plot()\n",
    "plt.title(f\"pPXF fit with {sps_name} SPS templates\")\n",
    "plt.pause(5)"
   ],
   "outputs": [
    {
     "data": {
      "text/plain": [
       "<Figure size 640x480 with 1 Axes>"
      ],
      "image/png": "[encoded data removed]"
     },
     "metadata": {},
     "output_type": "display_data"
    }
   ],
   "execution_count": 18
  }
 ],
 "metadata": {
  "jupytext": {
   "cell_metadata_filter": "-all",
   "formats": "py:percent,ipynb"
  },
  "kernelspec": {
   "display_name": "base",
   "language": "python",
   "name": "python3"
  },
  "language_info": {
   "codemirror_mode": {
    "name": "ipython",
    "version": 3
   },
   "file_extension": ".py",
   "mimetype": "text/x-python",
   "name": "python",
   "nbconvert_exporter": "python",
   "pygments_lexer": "ipython3",
   "version": "3.12.3"
  }
 },
 "nbformat": 4,
 "nbformat_minor": 5
}
