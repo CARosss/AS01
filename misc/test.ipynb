{
 "cells": [
  {
   "cell_type": "code",
   "id": "initial_id",
   "metadata": {
    "collapsed": true,
    "ExecuteTime": {
     "end_time": "2024-10-20T13:58:12.654122Z",
     "start_time": "2024-10-20T13:58:12.651026Z"
    }
   },
   "source": [
    "\n",
    "def ncr(n, r):\n",
    "    nfac = 1\n",
    "    rfac=1\n",
    "    for i in range(1,n+1):\n",
    "        if i<=r:\n",
    "            rfac *=i\n",
    "        nfac*=i\n",
    "    print(nfac/rfac)\n",
    "        \n",
    "    \n",
    "ncr(5,3)\n",
    "\n"
   ],
   "outputs": [
    {
     "name": "stdout",
     "output_type": "stream",
     "text": [
      "20.0\n"
     ]
    }
   ],
   "execution_count": 4
  },
  {
   "metadata": {
    "ExecuteTime": {
     "end_time": "2024-10-20T15:06:36.345199Z",
     "start_time": "2024-10-20T15:06:36.342155Z"
    }
   },
   "cell_type": "code",
   "source": [
    "def fact(x):\n",
    "    if x ==1:\n",
    "        return 1\n",
    "    return x*fact(x-1)\n",
    "    \n",
    "\n",
    "r_fac = fact(3)\n",
    "n_fac = fact(5)\n",
    "print(n_fac/r_fac)\n"
   ],
   "id": "8402f9b4610fb904",
   "outputs": [
    {
     "name": "stdout",
     "output_type": "stream",
     "text": [
      "20.0\n"
     ]
    }
   ],
   "execution_count": 7
  },
  {
   "metadata": {},
   "cell_type": "markdown",
   "source": [
    "Write a Python function to check whether two strings are anagrams. Do a version with and\n",
    "without sorting. Why might you want a function that can do this without sorting?"
   ],
   "id": "92a850a67777cc72"
  },
  {
   "metadata": {
    "ExecuteTime": {
     "end_time": "2024-10-20T15:57:43.526432Z",
     "start_time": "2024-10-20T15:57:43.518280Z"
    }
   },
   "cell_type": "code",
   "source": [
    "def no_sort(word1, word2):\n",
    "    if len(word1)!=len(word2):\n",
    "        return False\n",
    "    count1 = {}\n",
    "    for c in word1:\n",
    "        if c not in count1.keys():\n",
    "            count1[c]=1\n",
    "        else:\n",
    "            count1[c]+=1\n",
    "    for c in word2:\n",
    "        if c not in count1.keys():\n",
    "            return False\n",
    "        count1[c]-=1\n",
    "        if count1[c]==0:\n",
    "            del count1[c]\n",
    "    return len(count1)==0\n",
    "    \n",
    "    \n",
    "word1, word2 = \"pair\", \"airp\" \n",
    "no_sort(word1, word2)"
   ],
   "id": "d5aaaf784f4dd97d",
   "outputs": [
    {
     "data": {
      "text/plain": [
       "True"
      ]
     },
     "execution_count": 4,
     "metadata": {},
     "output_type": "execute_result"
    }
   ],
   "execution_count": 4
  }
 ],
 "metadata": {
  "kernelspec": {
   "display_name": "Python 3",
   "language": "python",
   "name": "python3"
  },
  "language_info": {
   "codemirror_mode": {
    "name": "ipython",
    "version": 2
   },
   "file_extension": ".py",
   "mimetype": "text/x-python",
   "name": "python",
   "nbconvert_exporter": "python",
   "pygments_lexer": "ipython2",
   "version": "2.7.6"
  }
 },
 "nbformat": 4,
 "nbformat_minor": 5
}
