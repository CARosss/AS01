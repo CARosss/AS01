{
 "cells": [
  {
   "metadata": {
    "ExecuteTime": {
     "end_time": "2024-10-21T21:23:24.751286Z",
     "start_time": "2024-10-21T21:23:24.734337Z"
    }
   },
   "cell_type": "code",
   "source": [
    "def load_spec():\n",
    "    hdulist = fits.open(\"data/spec-0295-51985-0176_DoR0.22.fits\")\n",
    "    a = hdulist[1].data['loglam'][0]\n",
    "    hdulist.info()\n",
    "    spectrum = np.c_[hdulist[1].data[\"loglam\"][0],\n",
    "                     hdulist[1].data[\"FLUX\"][0],]\n",
    "                     #hdulist[1].data[\"ERR\"][0]]\n",
    "    print(hdulist[1].columns)\n",
    "load_spec()"
   ],
   "id": "da7207cd08f63a0e",
   "outputs": [
    {
     "name": "stdout",
     "output_type": "stream",
     "text": [
      "Filename: data/spec-0295-51985-0176_DoR0.22.fits\n",
      "No.    Name      Ver    Type      Cards   Dimensions   Format\n",
      "  0  PRIMARY       1 PrimaryHDU     143   ()      \n",
      "  1  COADD         1 BinTableHDU     26   3777R x 8C   ['E', 'E', 'E', 'J', 'J', 'E', 'E', 'E']   \n",
      "  2  SPECOBJ       1 BinTableHDU    262   1R x 126C   [6A, 4A, 16A, 23A, 16A, 8A, E, E, E, J, E, E, J, B, B, B, B, B, B, J, 22A, 19A, 19A, 22A, 19A, I, 3A, 3A, 1A, J, D, D, D, E, E, 19A, 8A, J, J, J, J, K, K, J, J, J, J, J, J, K, K, K, K, I, J, J, J, J, 5J, D, D, 6A, 21A, E, E, E, J, E, 24A, 10J, J, 10E, E, E, E, E, E, E, J, E, E, E, J, E, 5E, E, 10E, 10E, 10E, 5E, 5E, 5E, 5E, 5E, J, J, E, E, E, E, E, E, 25A, 21A, 10A, E, E, E, E, E, E, E, E, J, E, E, J, 1A, 1A, E, E, J, J, 1A, 5E, 5E]   \n",
      "  3  SPZLINE       1 BinTableHDU     48   29R x 19C   [J, J, J, 13A, D, E, E, E, E, E, E, E, E, E, E, J, J, E, E]   \n",
      "ColDefs(\n",
      "    name = 'flux'; format = 'E'\n",
      "    name = 'loglam'; format = 'E'\n",
      "    name = 'ivar'; format = 'E'\n",
      "    name = 'and_mask'; format = 'J'\n",
      "    name = 'or_mask'; format = 'J'\n",
      "    name = 'wdisp'; format = 'E'\n",
      "    name = 'sky'; format = 'E'\n",
      "    name = 'model'; format = 'E'\n",
      ")\n"
     ]
    }
   ],
   "execution_count": 40
  },
  {
   "cell_type": "code",
   "id": "initial_id",
   "metadata": {
    "collapsed": true,
    "ExecuteTime": {
     "end_time": "2024-10-21T20:42:47.692126Z",
     "start_time": "2024-10-21T20:42:47.657710Z"
    }
   },
   "source": [
    "import numpy as np\n",
    "import bagpipes as pipes\n",
    "from astropy.io import fits\n",
    "\n",
    "def bin(spectrum, binn):\n",
    "    \"\"\" Bins up two or three column spectral data by a specified factor. \"\"\"\n",
    "\n",
    "    binn = int(binn)\n",
    "    nbins = len(spectrum) // binn\n",
    "    binspec = np.zeros((nbins, spectrum.shape[1]))\n",
    "\n",
    "    for i in range(binspec.shape[0]):\n",
    "        spec_slice = spectrum[i*binn:(i+1)*binn, :]\n",
    "        binspec[i, 0] = np.mean(spec_slice[:, 0])\n",
    "        binspec[i, 1] = np.mean(spec_slice[:, 1])\n",
    "\n",
    "        if spectrum.shape[1] == 3:\n",
    "            binspec[i,2] = (1./float(binn)\n",
    "                            *np.sqrt(np.sum(spec_slice[:, 2]**2)))\n",
    "\n",
    "    return binspec\n",
    "\n",
    "\n",
    "def load_spec(ID):\n",
    "    \"\"\" Loads VANDELS spectroscopic data from file. \"\"\"\n",
    "    print(\"Here\")\n",
    "    hdulist = fits.open(\"data/spec-0295-51985-0176_DoR0.22.fits\")\n",
    "    spectrum = np.c_[hdulist[1].data[\"loglam\"][0],\n",
    "                     hdulist[1].data[\"FLUX\"][0],]\n",
    "                     #hdulist[1].data[\"ERR\"][0]]\n",
    "    print(spectrum)\n",
    "    mask = (spectrum[:,0] < 9250.) & (spectrum[:,0] > 5250.)\n",
    "\n",
    "    return bin(spectrum[mask], 2)\n",
    "\n",
    "\n",
    "goodss_filt_list = np.loadtxt(\"filters/goodss_filt_list.txt\", dtype=\"str\")\n",
    "\n",
    "#galaxy = pipes.galaxy(\"017433\", load_both, filt_list=goodss_filt_list)\n",
    "galaxy = pipes.galaxy(\"017433\", load_data = load_spec, filt_list=goodss_filt_list, photometry_exists=False)\n",
    "\n",
    "load_spec(\"1\")\n",
    "fig = galaxy.plot()"
   ],
   "outputs": [
    {
     "name": "stdout",
     "output_type": "stream",
     "text": [
      "Here\n",
      "[[ 3.5797   16.112864]]\n"
     ]
    },
    {
     "ename": "IndexError",
     "evalue": "index 0 is out of bounds for axis 0 with size 0",
     "output_type": "error",
     "traceback": [
      "\u001B[0;31m---------------------------------------------------------------------------\u001B[0m",
      "\u001B[0;31mIndexError\u001B[0m                                Traceback (most recent call last)",
      "Cell \u001B[0;32mIn[37], line 40\u001B[0m\n\u001B[1;32m     37\u001B[0m goodss_filt_list \u001B[38;5;241m=\u001B[39m np\u001B[38;5;241m.\u001B[39mloadtxt(\u001B[38;5;124m\"\u001B[39m\u001B[38;5;124mfilters/goodss_filt_list.txt\u001B[39m\u001B[38;5;124m\"\u001B[39m, dtype\u001B[38;5;241m=\u001B[39m\u001B[38;5;124m\"\u001B[39m\u001B[38;5;124mstr\u001B[39m\u001B[38;5;124m\"\u001B[39m)\n\u001B[1;32m     39\u001B[0m \u001B[38;5;66;03m#galaxy = pipes.galaxy(\"017433\", load_both, filt_list=goodss_filt_list)\u001B[39;00m\n\u001B[0;32m---> 40\u001B[0m galaxy \u001B[38;5;241m=\u001B[39m \u001B[43mpipes\u001B[49m\u001B[38;5;241;43m.\u001B[39;49m\u001B[43mgalaxy\u001B[49m\u001B[43m(\u001B[49m\u001B[38;5;124;43m\"\u001B[39;49m\u001B[38;5;124;43m017433\u001B[39;49m\u001B[38;5;124;43m\"\u001B[39;49m\u001B[43m,\u001B[49m\u001B[43m \u001B[49m\u001B[43mload_data\u001B[49m\u001B[43m \u001B[49m\u001B[38;5;241;43m=\u001B[39;49m\u001B[43m \u001B[49m\u001B[43mload_spec\u001B[49m\u001B[43m,\u001B[49m\u001B[43m \u001B[49m\u001B[43mfilt_list\u001B[49m\u001B[38;5;241;43m=\u001B[39;49m\u001B[43mgoodss_filt_list\u001B[49m\u001B[43m,\u001B[49m\u001B[43m \u001B[49m\u001B[43mphotometry_exists\u001B[49m\u001B[38;5;241;43m=\u001B[39;49m\u001B[38;5;28;43;01mFalse\u001B[39;49;00m\u001B[43m)\u001B[49m\n\u001B[1;32m     42\u001B[0m load_spec(\u001B[38;5;124m\"\u001B[39m\u001B[38;5;124m1\u001B[39m\u001B[38;5;124m\"\u001B[39m)\n\u001B[1;32m     43\u001B[0m fig \u001B[38;5;241m=\u001B[39m galaxy\u001B[38;5;241m.\u001B[39mplot()\n",
      "File \u001B[0;32m~/Documents/PythonPlay/AS01_Testing/.venv/lib/python3.11/site-packages/bagpipes/input/galaxy.py:139\u001B[0m, in \u001B[0;36mgalaxy.__init__\u001B[0;34m(self, ID, load_data, spec_units, phot_units, spectrum_exists, photometry_exists, filt_list, out_units, load_indices, index_list, index_redshift, input_spec_cov_matrix)\u001B[0m\n\u001B[1;32m    137\u001B[0m \u001B[38;5;66;03m# Remove points at the edges of the spectrum with zero flux.\u001B[39;00m\n\u001B[1;32m    138\u001B[0m startn \u001B[38;5;241m=\u001B[39m \u001B[38;5;241m0\u001B[39m\n\u001B[0;32m--> 139\u001B[0m \u001B[38;5;28;01mwhile\u001B[39;00m \u001B[38;5;28;43mself\u001B[39;49m\u001B[38;5;241;43m.\u001B[39;49m\u001B[43mspectrum\u001B[49m\u001B[43m[\u001B[49m\u001B[43mstartn\u001B[49m\u001B[43m,\u001B[49m\u001B[43m \u001B[49m\u001B[38;5;241;43m1\u001B[39;49m\u001B[43m]\u001B[49m \u001B[38;5;241m==\u001B[39m \u001B[38;5;241m0.\u001B[39m:\n\u001B[1;32m    140\u001B[0m     startn \u001B[38;5;241m+\u001B[39m\u001B[38;5;241m=\u001B[39m \u001B[38;5;241m1\u001B[39m\n\u001B[1;32m    142\u001B[0m endn \u001B[38;5;241m=\u001B[39m \u001B[38;5;241m0\u001B[39m\n",
      "\u001B[0;31mIndexError\u001B[0m: index 0 is out of bounds for axis 0 with size 0"
     ]
    }
   ],
   "execution_count": 37
  }
 ],
 "metadata": {
  "kernelspec": {
   "display_name": "Python 3",
   "language": "python",
   "name": "python3"
  },
  "language_info": {
   "codemirror_mode": {
    "name": "ipython",
    "version": 2
   },
   "file_extension": ".py",
   "mimetype": "text/x-python",
   "name": "python",
   "nbconvert_exporter": "python",
   "pygments_lexer": "ipython2",
   "version": "2.7.6"
  }
 },
 "nbformat": 4,
 "nbformat_minor": 5
}
